{
 "cells": [
  {
   "cell_type": "markdown",
   "id": "0caf048d",
   "metadata": {},
   "source": [
    "\n",
    "# Task 4 - Optimization Model \n",
    "\n",
    "## Problem Statement\n",
    "A company produces two products: **Product A** and **Product B**. Each unit of Product A requires 2 hours in the production department and 1 hour in the packaging department. Each unit of Product B requires 1 hour in the production department and 1 hour in the packaging department. The company has a maximum of 100 hours of production time and 80 hours of packaging time available.\n",
    "\n",
    "The profit for each unit of Product A is ₹40 and for Product B is ₹30.\n",
    "\n",
    "**Goal**: Determine how many units of each product should be produced to **maximize profit**, using Linear Programming and PuLP.\n"
   ]
  },
  {
   "cell_type": "code",
   "execution_count": 1,
   "id": "230aa651",
   "metadata": {},
   "outputs": [
    {
     "ename": "ModuleNotFoundError",
     "evalue": "No module named 'pulp'",
     "output_type": "error",
     "traceback": [
      "\u001b[1;31m---------------------------------------------------------------------------\u001b[0m",
      "\u001b[1;31mModuleNotFoundError\u001b[0m                       Traceback (most recent call last)",
      "Cell \u001b[1;32mIn[1], line 1\u001b[0m\n\u001b[1;32m----> 1\u001b[0m \u001b[38;5;28;01mfrom\u001b[39;00m\u001b[38;5;250m \u001b[39m\u001b[38;5;21;01mpulp\u001b[39;00m\u001b[38;5;250m \u001b[39m\u001b[38;5;28;01mimport\u001b[39;00m LpMaximize, LpProblem, LpVariable, LpStatus, value\n\u001b[0;32m      2\u001b[0m \u001b[38;5;28;01mimport\u001b[39;00m\u001b[38;5;250m \u001b[39m\u001b[38;5;21;01mmatplotlib\u001b[39;00m\u001b[38;5;21;01m.\u001b[39;00m\u001b[38;5;21;01mpyplot\u001b[39;00m\u001b[38;5;250m \u001b[39m\u001b[38;5;28;01mas\u001b[39;00m\u001b[38;5;250m \u001b[39m\u001b[38;5;21;01mplt\u001b[39;00m\n\u001b[0;32m      3\u001b[0m \u001b[38;5;28;01mimport\u001b[39;00m\u001b[38;5;250m \u001b[39m\u001b[38;5;21;01mnumpy\u001b[39;00m\u001b[38;5;250m \u001b[39m\u001b[38;5;28;01mas\u001b[39;00m\u001b[38;5;250m \u001b[39m\u001b[38;5;21;01mnp\u001b[39;00m\n",
      "\u001b[1;31mModuleNotFoundError\u001b[0m: No module named 'pulp'"
     ]
    }
   ],
   "source": [
    "\n",
    "from pulp import LpMaximize, LpProblem, LpVariable, LpStatus, value\n",
    "import matplotlib.pyplot as plt\n",
    "import numpy as np\n"
   ]
  },
  {
   "cell_type": "code",
   "execution_count": null,
   "id": "130a37d7",
   "metadata": {},
   "outputs": [],
   "source": [
    "\n",
    "\n",
    "model = LpProblem(\"Maximize_Profit\", LpMaximize)\n",
    "\n",
    "\n",
    "A = LpVariable(\"Product_A\", lowBound=0, cat='Continuous')\n",
    "B = LpVariable(\"Product_B\", lowBound=0, cat='Continuous')\n",
    "\n",
    "\n",
    "model += 40 * A + 30 * B, \"Total_Profit\"\n",
    "\n",
    "\n",
    "model += 2 * A + 1 * B <= 100, \"Production_Time\"\n",
    "model += 1 * A + 1 * B <= 80, \"Packaging_Time\"\n",
    "\n",
    "\n",
    "model.solve()\n"
   ]
  },
  {
   "cell_type": "code",
   "execution_count": null,
   "id": "d9c1985a",
   "metadata": {},
   "outputs": [],
   "source": [
    "\n",
    "print(f\"Status: {LpStatus[model.status]}\")\n",
    "print(f\"Optimal Units of Product A: {A.varValue}\")\n",
    "print(f\"Optimal Units of Product B: {B.varValue}\")\n",
    "print(f\"Maximum Profit: ₹{value(model.objective)}\")\n"
   ]
  },
  {
   "cell_type": "code",
   "execution_count": null,
   "id": "296ae3c3",
   "metadata": {},
   "outputs": [],
   "source": [
    "\n",
    "x = np.linspace(0, 60, 200)\n",
    "y1 = 100 - 2 * x\n",
    "y2 = 80 - x\n",
    "\n",
    "plt.figure(figsize=(8,6))\n",
    "plt.plot(x, y1, label=\"2A + B ≤ 100\")\n",
    "plt.plot(x, y2, label=\"A + B ≤ 80\")\n",
    "plt.fill_between(x, np.minimum(y1, y2), alpha=0.3, label=\"Feasible Region\")\n",
    "plt.plot(A.varValue, B.varValue, 'ro', label=\"Optimal Solution\")\n",
    "plt.xlabel(\"Product A\")\n",
    "plt.ylabel(\"Product B\")\n",
    "plt.title(\"Feasible Region and Optimal Solution\")\n",
    "plt.legend()\n",
    "plt.grid(True)\n",
    "plt.xlim(0, 60)\n",
    "plt.ylim(0, 80)\n",
    "plt.show()\n"
   ]
  },
  {
   "cell_type": "markdown",
   "id": "86a66082",
   "metadata": {},
   "source": [
    "\n",
    "## Insights\n",
    "- The company should produce **{A.varValue} units of Product A** and **{B.varValue} units of Product B**.\n",
    "- The **maximum profit** that can be achieved is **₹{value(model.objective)}**.\n",
    "- The solution respects all production and packaging time constraints.\n"
   ]
  }
 ],
 "metadata": {
  "kernelspec": {
   "display_name": "Python 3",
   "language": "python",
   "name": "python3"
  },
  "language_info": {
   "codemirror_mode": {
    "name": "ipython",
    "version": 3
   },
   "file_extension": ".py",
   "mimetype": "text/x-python",
   "name": "python",
   "nbconvert_exporter": "python",
   "pygments_lexer": "ipython3",
   "version": "3.10.0"
  }
 },
 "nbformat": 4,
 "nbformat_minor": 5
}
